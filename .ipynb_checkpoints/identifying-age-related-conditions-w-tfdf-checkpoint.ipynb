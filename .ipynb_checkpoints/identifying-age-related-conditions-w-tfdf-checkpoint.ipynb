{
 "cells": [
  {
   "cell_type": "markdown",
   "id": "3fba26f7",
   "metadata": {
    "papermill": {
     "duration": 0.018364,
     "end_time": "2023-07-17T10:02:40.349816",
     "exception": false,
     "start_time": "2023-07-17T10:02:40.331452",
     "status": "completed"
    },
    "tags": []
   },
   "source": [
    "# Import the libraries"
   ]
  },
  {
   "cell_type": "code",
   "execution_count": 1,
   "id": "ca479f2e",
   "metadata": {
    "execution": {
     "iopub.execute_input": "2023-07-17T10:02:40.380237Z",
     "iopub.status.busy": "2023-07-17T10:02:40.379799Z",
     "iopub.status.idle": "2023-07-17T10:02:42.492436Z",
     "shell.execute_reply": "2023-07-17T10:02:42.491375Z"
    },
    "papermill": {
     "duration": 2.132171,
     "end_time": "2023-07-17T10:02:42.496270",
     "exception": false,
     "start_time": "2023-07-17T10:02:40.364099",
     "status": "completed"
    },
    "tags": []
   },
   "outputs": [],
   "source": [
    "import pandas as pd\n",
    "import numpy as np\n",
    "import seaborn as sns\n",
    "import matplotlib.pyplot as plt\n",
    "import time\n",
    "\n",
    "from sklearn.model_selection import train_test_split\n",
    "from sklearn.impute import SimpleImputer\n",
    "from sklearn.preprocessing import StandardScaler\n",
    "from sklearn.decomposition import PCA\n",
    "from sklearn.neural_network import MLPClassifier"
   ]
  },
  {
   "cell_type": "markdown",
   "id": "25641eef",
   "metadata": {
    "papermill": {
     "duration": 0.013941,
     "end_time": "2023-07-17T10:02:42.533521",
     "exception": false,
     "start_time": "2023-07-17T10:02:42.519580",
     "status": "completed"
    },
    "tags": []
   },
   "source": [
    "# Load the Dataset"
   ]
  },
  {
   "cell_type": "code",
   "execution_count": 2,
   "id": "bf05d7cf",
   "metadata": {
    "execution": {
     "iopub.execute_input": "2023-07-17T10:02:42.563872Z",
     "iopub.status.busy": "2023-07-17T10:02:42.563404Z",
     "iopub.status.idle": "2023-07-17T10:02:42.608177Z",
     "shell.execute_reply": "2023-07-17T10:02:42.606939Z"
    },
    "papermill": {
     "duration": 0.063342,
     "end_time": "2023-07-17T10:02:42.611014",
     "exception": false,
     "start_time": "2023-07-17T10:02:42.547672",
     "status": "completed"
    },
    "tags": []
   },
   "outputs": [
    {
     "name": "stdout",
     "output_type": "stream",
     "text": [
      "Full train dataset shape is (617, 58)\n"
     ]
    }
   ],
   "source": [
    "dataset_df = pd.read_csv(\"train.csv\")\n",
    "print(\"Full train dataset shape is {}\".format(dataset_df.shape))"
   ]
  },
  {
   "cell_type": "markdown",
   "id": "0430bd0a",
   "metadata": {
    "papermill": {
     "duration": 0.013899,
     "end_time": "2023-07-17T10:02:42.639226",
     "exception": false,
     "start_time": "2023-07-17T10:02:42.625327",
     "status": "completed"
    },
    "tags": []
   },
   "source": [
    "The data is composed of 58 columns and 617 entries. We can see all 58 dimensions(results will be truncated since the number of columns is big) of our dataset by printing out the first 5 entries using the following code:"
   ]
  },
  {
   "cell_type": "code",
   "execution_count": 3,
   "id": "cd74890e",
   "metadata": {
    "execution": {
     "iopub.execute_input": "2023-07-17T10:02:42.670410Z",
     "iopub.status.busy": "2023-07-17T10:02:42.669487Z",
     "iopub.status.idle": "2023-07-17T10:02:42.723197Z",
     "shell.execute_reply": "2023-07-17T10:02:42.721956Z"
    },
    "papermill": {
     "duration": 0.072774,
     "end_time": "2023-07-17T10:02:42.726251",
     "exception": false,
     "start_time": "2023-07-17T10:02:42.653477",
     "status": "completed"
    },
    "tags": []
   },
   "outputs": [
    {
     "data": {
      "text/html": [
       "<div>\n",
       "<style scoped>\n",
       "    .dataframe tbody tr th:only-of-type {\n",
       "        vertical-align: middle;\n",
       "    }\n",
       "\n",
       "    .dataframe tbody tr th {\n",
       "        vertical-align: top;\n",
       "    }\n",
       "\n",
       "    .dataframe thead th {\n",
       "        text-align: right;\n",
       "    }\n",
       "</style>\n",
       "<table border=\"1\" class=\"dataframe\">\n",
       "  <thead>\n",
       "    <tr style=\"text-align: right;\">\n",
       "      <th></th>\n",
       "      <th>Id</th>\n",
       "      <th>AB</th>\n",
       "      <th>AF</th>\n",
       "      <th>AH</th>\n",
       "      <th>AM</th>\n",
       "      <th>AR</th>\n",
       "      <th>AX</th>\n",
       "      <th>AY</th>\n",
       "      <th>AZ</th>\n",
       "      <th>BC</th>\n",
       "      <th>...</th>\n",
       "      <th>FL</th>\n",
       "      <th>FR</th>\n",
       "      <th>FS</th>\n",
       "      <th>GB</th>\n",
       "      <th>GE</th>\n",
       "      <th>GF</th>\n",
       "      <th>GH</th>\n",
       "      <th>GI</th>\n",
       "      <th>GL</th>\n",
       "      <th>Class</th>\n",
       "    </tr>\n",
       "  </thead>\n",
       "  <tbody>\n",
       "    <tr>\n",
       "      <th>0</th>\n",
       "      <td>000ff2bfdfe9</td>\n",
       "      <td>0.209377</td>\n",
       "      <td>3109.03329</td>\n",
       "      <td>85.200147</td>\n",
       "      <td>22.394407</td>\n",
       "      <td>8.138688</td>\n",
       "      <td>0.699861</td>\n",
       "      <td>0.025578</td>\n",
       "      <td>9.812214</td>\n",
       "      <td>5.555634</td>\n",
       "      <td>...</td>\n",
       "      <td>7.298162</td>\n",
       "      <td>1.73855</td>\n",
       "      <td>0.094822</td>\n",
       "      <td>11.339138</td>\n",
       "      <td>72.611063</td>\n",
       "      <td>2003.810319</td>\n",
       "      <td>22.136229</td>\n",
       "      <td>69.834944</td>\n",
       "      <td>0.120343</td>\n",
       "      <td>1</td>\n",
       "    </tr>\n",
       "    <tr>\n",
       "      <th>1</th>\n",
       "      <td>007255e47698</td>\n",
       "      <td>0.145282</td>\n",
       "      <td>978.76416</td>\n",
       "      <td>85.200147</td>\n",
       "      <td>36.968889</td>\n",
       "      <td>8.138688</td>\n",
       "      <td>3.632190</td>\n",
       "      <td>0.025578</td>\n",
       "      <td>13.517790</td>\n",
       "      <td>1.229900</td>\n",
       "      <td>...</td>\n",
       "      <td>0.173229</td>\n",
       "      <td>0.49706</td>\n",
       "      <td>0.568932</td>\n",
       "      <td>9.292698</td>\n",
       "      <td>72.611063</td>\n",
       "      <td>27981.562750</td>\n",
       "      <td>29.135430</td>\n",
       "      <td>32.131996</td>\n",
       "      <td>21.978000</td>\n",
       "      <td>0</td>\n",
       "    </tr>\n",
       "    <tr>\n",
       "      <th>2</th>\n",
       "      <td>013f2bd269f5</td>\n",
       "      <td>0.470030</td>\n",
       "      <td>2635.10654</td>\n",
       "      <td>85.200147</td>\n",
       "      <td>32.360553</td>\n",
       "      <td>8.138688</td>\n",
       "      <td>6.732840</td>\n",
       "      <td>0.025578</td>\n",
       "      <td>12.824570</td>\n",
       "      <td>1.229900</td>\n",
       "      <td>...</td>\n",
       "      <td>7.709560</td>\n",
       "      <td>0.97556</td>\n",
       "      <td>1.198821</td>\n",
       "      <td>37.077772</td>\n",
       "      <td>88.609437</td>\n",
       "      <td>13676.957810</td>\n",
       "      <td>28.022851</td>\n",
       "      <td>35.192676</td>\n",
       "      <td>0.196941</td>\n",
       "      <td>0</td>\n",
       "    </tr>\n",
       "    <tr>\n",
       "      <th>3</th>\n",
       "      <td>043ac50845d5</td>\n",
       "      <td>0.252107</td>\n",
       "      <td>3819.65177</td>\n",
       "      <td>120.201618</td>\n",
       "      <td>77.112203</td>\n",
       "      <td>8.138688</td>\n",
       "      <td>3.685344</td>\n",
       "      <td>0.025578</td>\n",
       "      <td>11.053708</td>\n",
       "      <td>1.229900</td>\n",
       "      <td>...</td>\n",
       "      <td>6.122162</td>\n",
       "      <td>0.49706</td>\n",
       "      <td>0.284466</td>\n",
       "      <td>18.529584</td>\n",
       "      <td>82.416803</td>\n",
       "      <td>2094.262452</td>\n",
       "      <td>39.948656</td>\n",
       "      <td>90.493248</td>\n",
       "      <td>0.155829</td>\n",
       "      <td>0</td>\n",
       "    </tr>\n",
       "    <tr>\n",
       "      <th>4</th>\n",
       "      <td>044fb8a146ec</td>\n",
       "      <td>0.380297</td>\n",
       "      <td>3733.04844</td>\n",
       "      <td>85.200147</td>\n",
       "      <td>14.103738</td>\n",
       "      <td>8.138688</td>\n",
       "      <td>3.942255</td>\n",
       "      <td>0.054810</td>\n",
       "      <td>3.396778</td>\n",
       "      <td>102.151980</td>\n",
       "      <td>...</td>\n",
       "      <td>8.153058</td>\n",
       "      <td>48.50134</td>\n",
       "      <td>0.121914</td>\n",
       "      <td>16.408728</td>\n",
       "      <td>146.109943</td>\n",
       "      <td>8524.370502</td>\n",
       "      <td>45.381316</td>\n",
       "      <td>36.262628</td>\n",
       "      <td>0.096614</td>\n",
       "      <td>1</td>\n",
       "    </tr>\n",
       "  </tbody>\n",
       "</table>\n",
       "<p>5 rows × 58 columns</p>\n",
       "</div>"
      ],
      "text/plain": [
       "             Id        AB          AF          AH         AM        AR  \\\n",
       "0  000ff2bfdfe9  0.209377  3109.03329   85.200147  22.394407  8.138688   \n",
       "1  007255e47698  0.145282   978.76416   85.200147  36.968889  8.138688   \n",
       "2  013f2bd269f5  0.470030  2635.10654   85.200147  32.360553  8.138688   \n",
       "3  043ac50845d5  0.252107  3819.65177  120.201618  77.112203  8.138688   \n",
       "4  044fb8a146ec  0.380297  3733.04844   85.200147  14.103738  8.138688   \n",
       "\n",
       "         AX        AY         AZ          BC  ...        FL        FR  \\\n",
       "0  0.699861  0.025578   9.812214    5.555634  ...  7.298162   1.73855   \n",
       "1  3.632190  0.025578  13.517790    1.229900  ...  0.173229   0.49706   \n",
       "2  6.732840  0.025578  12.824570    1.229900  ...  7.709560   0.97556   \n",
       "3  3.685344  0.025578  11.053708    1.229900  ...  6.122162   0.49706   \n",
       "4  3.942255  0.054810   3.396778  102.151980  ...  8.153058  48.50134   \n",
       "\n",
       "         FS         GB          GE            GF         GH         GI  \\\n",
       "0  0.094822  11.339138   72.611063   2003.810319  22.136229  69.834944   \n",
       "1  0.568932   9.292698   72.611063  27981.562750  29.135430  32.131996   \n",
       "2  1.198821  37.077772   88.609437  13676.957810  28.022851  35.192676   \n",
       "3  0.284466  18.529584   82.416803   2094.262452  39.948656  90.493248   \n",
       "4  0.121914  16.408728  146.109943   8524.370502  45.381316  36.262628   \n",
       "\n",
       "          GL  Class  \n",
       "0   0.120343      1  \n",
       "1  21.978000      0  \n",
       "2   0.196941      0  \n",
       "3   0.155829      0  \n",
       "4   0.096614      1  \n",
       "\n",
       "[5 rows x 58 columns]"
      ]
     },
     "execution_count": 3,
     "metadata": {},
     "output_type": "execute_result"
    }
   ],
   "source": [
    "dataset_df.head()"
   ]
  },
  {
   "cell_type": "markdown",
   "id": "b8ca95d6",
   "metadata": {
    "papermill": {
     "duration": 0.014741,
     "end_time": "2023-07-17T10:02:42.756152",
     "exception": false,
     "start_time": "2023-07-17T10:02:42.741411",
     "status": "completed"
    },
    "tags": []
   },
   "source": [
    "`Class` is the label column indicating if a person has one or more of any of the three medical conditions (i.e,`Class 1`), or none of the three medical conditions (i.e,`Class 0`).\n",
    "Given the features of the dataset, the goal of our model is to predict the value of `Class` for any person."
   ]
  },
  {
   "cell_type": "markdown",
   "id": "541905c6",
   "metadata": {
    "papermill": {
     "duration": 0.01428,
     "end_time": "2023-07-17T10:02:42.785259",
     "exception": false,
     "start_time": "2023-07-17T10:02:42.770979",
     "status": "completed"
    },
    "tags": []
   },
   "source": [
    "# Quick basic dataset exploration"
   ]
  },
  {
   "cell_type": "code",
   "execution_count": 4,
   "id": "f30f0315",
   "metadata": {
    "execution": {
     "iopub.execute_input": "2023-07-17T10:02:42.817344Z",
     "iopub.status.busy": "2023-07-17T10:02:42.816487Z",
     "iopub.status.idle": "2023-07-17T10:02:42.997997Z",
     "shell.execute_reply": "2023-07-17T10:02:42.996860Z"
    },
    "papermill": {
     "duration": 0.201123,
     "end_time": "2023-07-17T10:02:43.001018",
     "exception": false,
     "start_time": "2023-07-17T10:02:42.799895",
     "status": "completed"
    },
    "tags": []
   },
   "outputs": [
    {
     "data": {
      "text/html": [
       "<div>\n",
       "<style scoped>\n",
       "    .dataframe tbody tr th:only-of-type {\n",
       "        vertical-align: middle;\n",
       "    }\n",
       "\n",
       "    .dataframe tbody tr th {\n",
       "        vertical-align: top;\n",
       "    }\n",
       "\n",
       "    .dataframe thead th {\n",
       "        text-align: right;\n",
       "    }\n",
       "</style>\n",
       "<table border=\"1\" class=\"dataframe\">\n",
       "  <thead>\n",
       "    <tr style=\"text-align: right;\">\n",
       "      <th></th>\n",
       "      <th>AB</th>\n",
       "      <th>AF</th>\n",
       "      <th>AH</th>\n",
       "      <th>AM</th>\n",
       "      <th>AR</th>\n",
       "      <th>AX</th>\n",
       "      <th>AY</th>\n",
       "      <th>AZ</th>\n",
       "      <th>BC</th>\n",
       "      <th>BD</th>\n",
       "      <th>...</th>\n",
       "      <th>FL</th>\n",
       "      <th>FR</th>\n",
       "      <th>FS</th>\n",
       "      <th>GB</th>\n",
       "      <th>GE</th>\n",
       "      <th>GF</th>\n",
       "      <th>GH</th>\n",
       "      <th>GI</th>\n",
       "      <th>GL</th>\n",
       "      <th>Class</th>\n",
       "    </tr>\n",
       "  </thead>\n",
       "  <tbody>\n",
       "    <tr>\n",
       "      <th>count</th>\n",
       "      <td>617.000000</td>\n",
       "      <td>617.000000</td>\n",
       "      <td>617.000000</td>\n",
       "      <td>617.000000</td>\n",
       "      <td>617.000000</td>\n",
       "      <td>617.000000</td>\n",
       "      <td>617.000000</td>\n",
       "      <td>617.000000</td>\n",
       "      <td>617.000000</td>\n",
       "      <td>617.000000</td>\n",
       "      <td>...</td>\n",
       "      <td>616.000000</td>\n",
       "      <td>617.000000</td>\n",
       "      <td>615.000000</td>\n",
       "      <td>617.000000</td>\n",
       "      <td>617.000000</td>\n",
       "      <td>617.000000</td>\n",
       "      <td>617.000000</td>\n",
       "      <td>617.000000</td>\n",
       "      <td>616.000000</td>\n",
       "      <td>617.000000</td>\n",
       "    </tr>\n",
       "    <tr>\n",
       "      <th>mean</th>\n",
       "      <td>0.477149</td>\n",
       "      <td>3502.013221</td>\n",
       "      <td>118.624513</td>\n",
       "      <td>38.968552</td>\n",
       "      <td>10.128242</td>\n",
       "      <td>5.545576</td>\n",
       "      <td>0.060320</td>\n",
       "      <td>10.566447</td>\n",
       "      <td>8.053012</td>\n",
       "      <td>5350.388655</td>\n",
       "      <td>...</td>\n",
       "      <td>5.433199</td>\n",
       "      <td>3.533905</td>\n",
       "      <td>0.421501</td>\n",
       "      <td>20.724856</td>\n",
       "      <td>131.714987</td>\n",
       "      <td>14679.595398</td>\n",
       "      <td>31.489716</td>\n",
       "      <td>50.584437</td>\n",
       "      <td>8.530961</td>\n",
       "      <td>0.175041</td>\n",
       "    </tr>\n",
       "    <tr>\n",
       "      <th>std</th>\n",
       "      <td>0.468388</td>\n",
       "      <td>2300.322717</td>\n",
       "      <td>127.838950</td>\n",
       "      <td>69.728226</td>\n",
       "      <td>10.518877</td>\n",
       "      <td>2.551696</td>\n",
       "      <td>0.416817</td>\n",
       "      <td>4.350645</td>\n",
       "      <td>65.166943</td>\n",
       "      <td>3021.326641</td>\n",
       "      <td>...</td>\n",
       "      <td>11.496257</td>\n",
       "      <td>50.181948</td>\n",
       "      <td>1.305365</td>\n",
       "      <td>9.991907</td>\n",
       "      <td>144.181524</td>\n",
       "      <td>19352.959387</td>\n",
       "      <td>9.864239</td>\n",
       "      <td>36.266251</td>\n",
       "      <td>10.327010</td>\n",
       "      <td>0.380310</td>\n",
       "    </tr>\n",
       "    <tr>\n",
       "      <th>min</th>\n",
       "      <td>0.081187</td>\n",
       "      <td>192.593280</td>\n",
       "      <td>85.200147</td>\n",
       "      <td>3.177522</td>\n",
       "      <td>8.138688</td>\n",
       "      <td>0.699861</td>\n",
       "      <td>0.025578</td>\n",
       "      <td>3.396778</td>\n",
       "      <td>1.229900</td>\n",
       "      <td>1693.624320</td>\n",
       "      <td>...</td>\n",
       "      <td>0.173229</td>\n",
       "      <td>0.497060</td>\n",
       "      <td>0.067730</td>\n",
       "      <td>4.102182</td>\n",
       "      <td>72.611063</td>\n",
       "      <td>13.038894</td>\n",
       "      <td>9.432735</td>\n",
       "      <td>0.897628</td>\n",
       "      <td>0.001129</td>\n",
       "      <td>0.000000</td>\n",
       "    </tr>\n",
       "    <tr>\n",
       "      <th>25%</th>\n",
       "      <td>0.252107</td>\n",
       "      <td>2197.345480</td>\n",
       "      <td>85.200147</td>\n",
       "      <td>12.270314</td>\n",
       "      <td>8.138688</td>\n",
       "      <td>4.128294</td>\n",
       "      <td>0.025578</td>\n",
       "      <td>8.129580</td>\n",
       "      <td>1.229900</td>\n",
       "      <td>4155.702870</td>\n",
       "      <td>...</td>\n",
       "      <td>0.173229</td>\n",
       "      <td>0.497060</td>\n",
       "      <td>0.067730</td>\n",
       "      <td>14.036718</td>\n",
       "      <td>72.611063</td>\n",
       "      <td>2798.992584</td>\n",
       "      <td>25.034888</td>\n",
       "      <td>23.011684</td>\n",
       "      <td>0.124392</td>\n",
       "      <td>0.000000</td>\n",
       "    </tr>\n",
       "    <tr>\n",
       "      <th>50%</th>\n",
       "      <td>0.354659</td>\n",
       "      <td>3120.318960</td>\n",
       "      <td>85.200147</td>\n",
       "      <td>20.533110</td>\n",
       "      <td>8.138688</td>\n",
       "      <td>5.031912</td>\n",
       "      <td>0.025578</td>\n",
       "      <td>10.461320</td>\n",
       "      <td>1.229900</td>\n",
       "      <td>4997.960730</td>\n",
       "      <td>...</td>\n",
       "      <td>3.028141</td>\n",
       "      <td>1.131000</td>\n",
       "      <td>0.250601</td>\n",
       "      <td>18.771436</td>\n",
       "      <td>72.611063</td>\n",
       "      <td>7838.273610</td>\n",
       "      <td>30.608946</td>\n",
       "      <td>41.007968</td>\n",
       "      <td>0.337827</td>\n",
       "      <td>0.000000</td>\n",
       "    </tr>\n",
       "    <tr>\n",
       "      <th>75%</th>\n",
       "      <td>0.559763</td>\n",
       "      <td>4361.637390</td>\n",
       "      <td>113.739540</td>\n",
       "      <td>39.139886</td>\n",
       "      <td>8.138688</td>\n",
       "      <td>6.431634</td>\n",
       "      <td>0.036845</td>\n",
       "      <td>12.969516</td>\n",
       "      <td>5.081244</td>\n",
       "      <td>6035.885700</td>\n",
       "      <td>...</td>\n",
       "      <td>6.238814</td>\n",
       "      <td>1.512060</td>\n",
       "      <td>0.535067</td>\n",
       "      <td>25.608406</td>\n",
       "      <td>127.591671</td>\n",
       "      <td>19035.709240</td>\n",
       "      <td>36.863947</td>\n",
       "      <td>67.931664</td>\n",
       "      <td>21.978000</td>\n",
       "      <td>0.000000</td>\n",
       "    </tr>\n",
       "    <tr>\n",
       "      <th>max</th>\n",
       "      <td>6.161666</td>\n",
       "      <td>28688.187660</td>\n",
       "      <td>1910.123198</td>\n",
       "      <td>630.518230</td>\n",
       "      <td>178.943634</td>\n",
       "      <td>38.270880</td>\n",
       "      <td>10.315851</td>\n",
       "      <td>38.971568</td>\n",
       "      <td>1463.693448</td>\n",
       "      <td>53060.599240</td>\n",
       "      <td>...</td>\n",
       "      <td>137.932739</td>\n",
       "      <td>1244.227020</td>\n",
       "      <td>31.365763</td>\n",
       "      <td>135.781294</td>\n",
       "      <td>1497.351958</td>\n",
       "      <td>143790.071200</td>\n",
       "      <td>81.210825</td>\n",
       "      <td>191.194764</td>\n",
       "      <td>21.978000</td>\n",
       "      <td>1.000000</td>\n",
       "    </tr>\n",
       "  </tbody>\n",
       "</table>\n",
       "<p>8 rows × 56 columns</p>\n",
       "</div>"
      ],
      "text/plain": [
       "               AB            AF           AH          AM          AR  \\\n",
       "count  617.000000    617.000000   617.000000  617.000000  617.000000   \n",
       "mean     0.477149   3502.013221   118.624513   38.968552   10.128242   \n",
       "std      0.468388   2300.322717   127.838950   69.728226   10.518877   \n",
       "min      0.081187    192.593280    85.200147    3.177522    8.138688   \n",
       "25%      0.252107   2197.345480    85.200147   12.270314    8.138688   \n",
       "50%      0.354659   3120.318960    85.200147   20.533110    8.138688   \n",
       "75%      0.559763   4361.637390   113.739540   39.139886    8.138688   \n",
       "max      6.161666  28688.187660  1910.123198  630.518230  178.943634   \n",
       "\n",
       "               AX          AY          AZ           BC           BD   ...  \\\n",
       "count  617.000000  617.000000  617.000000   617.000000    617.000000  ...   \n",
       "mean     5.545576    0.060320   10.566447     8.053012   5350.388655  ...   \n",
       "std      2.551696    0.416817    4.350645    65.166943   3021.326641  ...   \n",
       "min      0.699861    0.025578    3.396778     1.229900   1693.624320  ...   \n",
       "25%      4.128294    0.025578    8.129580     1.229900   4155.702870  ...   \n",
       "50%      5.031912    0.025578   10.461320     1.229900   4997.960730  ...   \n",
       "75%      6.431634    0.036845   12.969516     5.081244   6035.885700  ...   \n",
       "max     38.270880   10.315851   38.971568  1463.693448  53060.599240  ...   \n",
       "\n",
       "               FL           FR          FS          GB           GE  \\\n",
       "count  616.000000   617.000000  615.000000  617.000000   617.000000   \n",
       "mean     5.433199     3.533905    0.421501   20.724856   131.714987   \n",
       "std     11.496257    50.181948    1.305365    9.991907   144.181524   \n",
       "min      0.173229     0.497060    0.067730    4.102182    72.611063   \n",
       "25%      0.173229     0.497060    0.067730   14.036718    72.611063   \n",
       "50%      3.028141     1.131000    0.250601   18.771436    72.611063   \n",
       "75%      6.238814     1.512060    0.535067   25.608406   127.591671   \n",
       "max    137.932739  1244.227020   31.365763  135.781294  1497.351958   \n",
       "\n",
       "                  GF          GH          GI          GL       Class  \n",
       "count     617.000000  617.000000  617.000000  616.000000  617.000000  \n",
       "mean    14679.595398   31.489716   50.584437    8.530961    0.175041  \n",
       "std     19352.959387    9.864239   36.266251   10.327010    0.380310  \n",
       "min        13.038894    9.432735    0.897628    0.001129    0.000000  \n",
       "25%      2798.992584   25.034888   23.011684    0.124392    0.000000  \n",
       "50%      7838.273610   30.608946   41.007968    0.337827    0.000000  \n",
       "75%     19035.709240   36.863947   67.931664   21.978000    0.000000  \n",
       "max    143790.071200   81.210825  191.194764   21.978000    1.000000  \n",
       "\n",
       "[8 rows x 56 columns]"
      ]
     },
     "execution_count": 4,
     "metadata": {},
     "output_type": "execute_result"
    }
   ],
   "source": [
    "dataset_df.describe()"
   ]
  },
  {
   "cell_type": "code",
   "execution_count": 5,
   "id": "52e079a9",
   "metadata": {
    "execution": {
     "iopub.execute_input": "2023-07-17T10:02:43.036386Z",
     "iopub.status.busy": "2023-07-17T10:02:43.035369Z",
     "iopub.status.idle": "2023-07-17T10:02:43.043160Z",
     "shell.execute_reply": "2023-07-17T10:02:43.042059Z"
    },
    "papermill": {
     "duration": 0.028723,
     "end_time": "2023-07-17T10:02:43.045729",
     "exception": false,
     "start_time": "2023-07-17T10:02:43.017006",
     "status": "completed"
    },
    "tags": []
   },
   "outputs": [
    {
     "data": {
      "text/plain": [
       "True"
      ]
     },
     "execution_count": 5,
     "metadata": {},
     "output_type": "execute_result"
    }
   ],
   "source": [
    "dataset_df.isnull().values.any()"
   ]
  },
  {
   "cell_type": "code",
   "execution_count": 6,
   "id": "3fce2506",
   "metadata": {
    "execution": {
     "iopub.execute_input": "2023-07-17T10:02:43.128902Z",
     "iopub.status.busy": "2023-07-17T10:02:43.128210Z",
     "iopub.status.idle": "2023-07-17T10:02:43.156179Z",
     "shell.execute_reply": "2023-07-17T10:02:43.154941Z"
    },
    "papermill": {
     "duration": 0.047815,
     "end_time": "2023-07-17T10:02:43.158803",
     "exception": false,
     "start_time": "2023-07-17T10:02:43.110988",
     "status": "completed"
    },
    "tags": []
   },
   "outputs": [
    {
     "name": "stdout",
     "output_type": "stream",
     "text": [
      "<class 'pandas.core.frame.DataFrame'>\n",
      "RangeIndex: 617 entries, 0 to 616\n",
      "Data columns (total 58 columns):\n",
      " #   Column  Non-Null Count  Dtype  \n",
      "---  ------  --------------  -----  \n",
      " 0   Id      617 non-null    object \n",
      " 1   AB      617 non-null    float64\n",
      " 2   AF      617 non-null    float64\n",
      " 3   AH      617 non-null    float64\n",
      " 4   AM      617 non-null    float64\n",
      " 5   AR      617 non-null    float64\n",
      " 6   AX      617 non-null    float64\n",
      " 7   AY      617 non-null    float64\n",
      " 8   AZ      617 non-null    float64\n",
      " 9   BC      617 non-null    float64\n",
      " 10  BD      617 non-null    float64\n",
      " 11  BN      617 non-null    float64\n",
      " 12  BP      617 non-null    float64\n",
      " 13  BQ      557 non-null    float64\n",
      " 14  BR      617 non-null    float64\n",
      " 15  BZ      617 non-null    float64\n",
      " 16  CB      615 non-null    float64\n",
      " 17  CC      614 non-null    float64\n",
      " 18  CD      617 non-null    float64\n",
      " 19  CF      617 non-null    float64\n",
      " 20  CH      617 non-null    float64\n",
      " 21  CL      617 non-null    float64\n",
      " 22  CR      617 non-null    float64\n",
      " 23  CS      617 non-null    float64\n",
      " 24  CU      617 non-null    float64\n",
      " 25  CW      617 non-null    float64\n",
      " 26  DA      617 non-null    float64\n",
      " 27  DE      617 non-null    float64\n",
      " 28  DF      617 non-null    float64\n",
      " 29  DH      617 non-null    float64\n",
      " 30  DI      617 non-null    float64\n",
      " 31  DL      617 non-null    float64\n",
      " 32  DN      617 non-null    float64\n",
      " 33  DU      616 non-null    float64\n",
      " 34  DV      617 non-null    float64\n",
      " 35  DY      617 non-null    float64\n",
      " 36  EB      617 non-null    float64\n",
      " 37  EE      617 non-null    float64\n",
      " 38  EG      617 non-null    float64\n",
      " 39  EH      617 non-null    float64\n",
      " 40  EJ      617 non-null    object \n",
      " 41  EL      557 non-null    float64\n",
      " 42  EP      617 non-null    float64\n",
      " 43  EU      617 non-null    float64\n",
      " 44  FC      616 non-null    float64\n",
      " 45  FD      617 non-null    float64\n",
      " 46  FE      617 non-null    float64\n",
      " 47  FI      617 non-null    float64\n",
      " 48  FL      616 non-null    float64\n",
      " 49  FR      617 non-null    float64\n",
      " 50  FS      615 non-null    float64\n",
      " 51  GB      617 non-null    float64\n",
      " 52  GE      617 non-null    float64\n",
      " 53  GF      617 non-null    float64\n",
      " 54  GH      617 non-null    float64\n",
      " 55  GI      617 non-null    float64\n",
      " 56  GL      616 non-null    float64\n",
      " 57  Class   617 non-null    int64  \n",
      "dtypes: float64(55), int64(1), object(2)\n",
      "memory usage: 279.7+ KB\n"
     ]
    }
   ],
   "source": [
    "dataset_df.info()"
   ]
  },
  {
   "cell_type": "markdown",
   "id": "2bd17bc3",
   "metadata": {
    "papermill": {
     "duration": 0.016028,
     "end_time": "2023-07-17T10:02:43.492907",
     "exception": false,
     "start_time": "2023-07-17T10:02:43.476879",
     "status": "completed"
    },
    "tags": []
   },
   "source": [
    "## Pie chart for label column: Class"
   ]
  },
  {
   "cell_type": "code",
   "execution_count": 7,
   "id": "941e6ee8",
   "metadata": {
    "execution": {
     "iopub.execute_input": "2023-07-17T10:02:43.528176Z",
     "iopub.status.busy": "2023-07-17T10:02:43.527708Z",
     "iopub.status.idle": "2023-07-17T10:02:43.751379Z",
     "shell.execute_reply": "2023-07-17T10:02:43.749716Z"
    },
    "papermill": {
     "duration": 0.246566,
     "end_time": "2023-07-17T10:02:43.755906",
     "exception": false,
     "start_time": "2023-07-17T10:02:43.509340",
     "status": "completed"
    },
    "tags": []
   },
   "outputs": [
    {
     "data": {
      "text/plain": [
       "<AxesSubplot:ylabel='Class'>"
      ]
     },
     "execution_count": 7,
     "metadata": {},
     "output_type": "execute_result"
    },
    {
     "data": {
      "image/png": "[encoded data removed]",
      "text/plain": [
       "<Figure size 432x288 with 1 Axes>"
      ]
     },
     "metadata": {},
     "output_type": "display_data"
    }
   ],
   "source": [
    "plot_df = dataset_df.Class.value_counts()\n",
    "plot_df.plot(kind=\"pie\")"
   ]
  },
  {
   "cell_type": "markdown",
   "id": "e7de3528",
   "metadata": {
    "papermill": {
     "duration": 0.030838,
     "end_time": "2023-07-17T10:02:43.822033",
     "exception": false,
     "start_time": "2023-07-17T10:02:43.791195",
     "status": "completed"
    },
    "tags": []
   },
   "source": [
    "**Important**: From the pie chart we can see that the dataset is heavily imbalanced since the fraction of positive(`1`) samples is very small compared to the negative(`0`) samples."
   ]
  },
  {
   "cell_type": "markdown",
   "id": "0cf06794",
   "metadata": {
    "papermill": {
     "duration": 0.016436,
     "end_time": "2023-07-17T10:02:43.855360",
     "exception": false,
     "start_time": "2023-07-17T10:02:43.838924",
     "status": "completed"
    },
    "tags": []
   },
   "source": [
    "# Numerical data distribution\n",
    "\n",
    "First, we will list all the numerical columns names."
   ]
  },
  {
   "cell_type": "code",
   "execution_count": null,
   "id": "00b1a5a0",
   "metadata": {
    "execution": {
     "iopub.execute_input": "2023-07-17T10:02:43.891466Z",
     "iopub.status.busy": "2023-07-17T10:02:43.890610Z",
     "iopub.status.idle": "2023-07-17T10:02:43.896080Z",
     "shell.execute_reply": "2023-07-17T10:02:43.895162Z"
    },
    "papermill": {
     "duration": 0.026341,
     "end_time": "2023-07-17T10:02:43.898535",
     "exception": false,
     "start_time": "2023-07-17T10:02:43.872194",
     "status": "completed"
    },
    "tags": []
   },
   "outputs": [],
   "source": [
    "# Store all the numerical column names into a list\n",
    "NUM_FEATURE_COLUMNS = [i for i in dataset_df.columns if i not in [\"Id\", \"EJ\", \"Class\"]]"
   ]
  },
  {
   "cell_type": "markdown",
   "id": "81aec01f",
   "metadata": {
    "papermill": {
     "duration": 0.016405,
     "end_time": "2023-07-17T10:02:43.932107",
     "exception": false,
     "start_time": "2023-07-17T10:02:43.915702",
     "status": "completed"
    },
    "tags": []
   },
   "source": [
    "Let us now plot the first 6 numerical columns and their values using bar charts."
   ]
  },
  {
   "cell_type": "code",
   "execution_count": null,
   "id": "85fead4b",
   "metadata": {
    "execution": {
     "iopub.execute_input": "2023-07-17T10:02:43.967829Z",
     "iopub.status.busy": "2023-07-17T10:02:43.966924Z",
     "iopub.status.idle": "2023-07-17T10:03:17.395681Z",
     "shell.execute_reply": "2023-07-17T10:03:17.394722Z"
    },
    "jupyter": {
     "outputs_hidden": true
    },
    "papermill": {
     "duration": 33.467659,
     "end_time": "2023-07-17T10:03:17.416317",
     "exception": false,
     "start_time": "2023-07-17T10:02:43.948658",
     "status": "completed"
    },
    "tags": []
   },
   "outputs": [],
   "source": [
    "figure, axis = plt.subplots(3, 2, figsize=(15, 15))\n",
    "plt.subplots_adjust(hspace=0.25, wspace=0.3)\n",
    "\n",
    "for i, column_name in enumerate(NUM_FEATURE_COLUMNS[:6]):\n",
    "    row = i//2\n",
    "    col = i % 2\n",
    "    bp = sns.barplot(ax=axis[row, col], x=dataset_df['Id'], y=dataset_df[column_name])\n",
    "    bp.set(xticklabels=[])\n",
    "    #bp.set_xticklabels(bp.get_xticklabels(), rotation=90, size = 7)\n",
    "    axis[row, col].set_title(column_name)"
   ]
  },
  {
   "cell_type": "markdown",
   "id": "4a9e9cc7",
   "metadata": {
    "papermill": {
     "duration": 0.017395,
     "end_time": "2023-07-17T10:03:17.451498",
     "exception": false,
     "start_time": "2023-07-17T10:03:17.434103",
     "status": "completed"
    },
    "tags": []
   },
   "source": [
    "We will also create a list of feature columns that will be used for training. We will drop `Id` from the list since it is not needed."
   ]
  },
  {
   "cell_type": "markdown",
   "id": "6c64014d",
   "metadata": {
    "papermill": {
     "duration": 0.01741,
     "end_time": "2023-07-17T10:03:17.534356",
     "exception": false,
     "start_time": "2023-07-17T10:03:17.516946",
     "status": "completed"
    },
    "tags": []
   },
   "source": [
    "## Now let us create the data matrix and prediction vector"
   ]
  },
  {
   "cell_type": "code",
   "execution_count": 28,
   "id": "e879f7fb",
   "metadata": {},
   "outputs": [
    {
     "data": {
      "text/plain": [
       "((509, 55), (509,), (108, 55), (108,))"
      ]
     },
     "execution_count": 28,
     "metadata": {},
     "output_type": "execute_result"
    }
   ],
   "source": [
    "X_0 = np.array(dataset_df[dataset_df[\"Class\"] == 0][dataset_df.columns[1:40]])\n",
    "X_0 = np.append(X_0, dataset_df[dataset_df[\"Class\"] == 0][dataset_df.columns[41:57]], axis = 1)\n",
    "y_0 = np.array(dataset_df[dataset_df[\"Class\"] == 0][\"Class\"])\n",
    "\n",
    "X_1 = np.array(dataset_df[dataset_df[\"Class\"] == 1][dataset_df.columns[1:40]])\n",
    "X_1 = np.append(X_1, dataset_df[dataset_df[\"Class\"] == 1][dataset_df.columns[41:57]], axis = 1)\n",
    "y_1 = np.array(dataset_df[dataset_df[\"Class\"] == 1][\"Class\"])\n",
    "\n",
    "X_0.shape, y_0.shape, X_1.shape, y_1.shape"
   ]
  },
  {
   "cell_type": "markdown",
   "id": "244875bf",
   "metadata": {
    "execution": {
     "iopub.execute_input": "2023-07-17T10:03:17.607490Z",
     "iopub.status.busy": "2023-07-17T10:03:17.606469Z",
     "iopub.status.idle": "2023-07-17T10:03:17.614525Z",
     "shell.execute_reply": "2023-07-17T10:03:17.613692Z"
    },
    "papermill": {
     "duration": 0.029703,
     "end_time": "2023-07-17T10:03:17.616936",
     "exception": false,
     "start_time": "2023-07-17T10:03:17.587233",
     "status": "completed"
    },
    "tags": []
   },
   "source": [
    "The missing values are treated speartaely for each class as can be seen in the code below"
   ]
  },
  {
   "cell_type": "code",
   "execution_count": 29,
   "id": "3094693c",
   "metadata": {
    "execution": {
     "iopub.execute_input": "2023-07-17T10:03:17.655568Z",
     "iopub.status.busy": "2023-07-17T10:03:17.654358Z",
     "iopub.status.idle": "2023-07-17T10:03:17.667425Z",
     "shell.execute_reply": "2023-07-17T10:03:17.666092Z"
    },
    "papermill": {
     "duration": 0.035829,
     "end_time": "2023-07-17T10:03:17.670568",
     "exception": false,
     "start_time": "2023-07-17T10:03:17.634739",
     "status": "completed"
    },
    "tags": []
   },
   "outputs": [],
   "source": [
    "data_cleaner = SimpleImputer(strategy = \"median\")\n",
    "X_0 = data_cleaner.fit_transform(X_0)\n",
    "X_1 = data_cleaner.fit_transform(X_1)"
   ]
  },
  {
   "cell_type": "markdown",
   "id": "3ba93bac",
   "metadata": {},
   "source": [
    "## Create a train test split"
   ]
  },
  {
   "cell_type": "code",
   "execution_count": 57,
   "id": "1d179ec4",
   "metadata": {},
   "outputs": [
    {
     "data": {
      "text/plain": [
       "((186, 55), (186,), (30, 55), (30,))"
      ]
     },
     "execution_count": 57,
     "metadata": {},
     "output_type": "execute_result"
    }
   ],
   "source": [
    "X_train_0, X_valid_0, y_train_0, y_valid_0 = train_test_split(X_0, y_0, test_size = 15, train_size = 93, random_state = 69)\n",
    "X_train_1, X_valid_1, y_train_1, y_valid_1 = train_test_split(X_1, y_1, test_size = 15, random_state = 69)\n",
    "\n",
    "X_train = np.append(X_train_1, X_train_0, axis = 0)\n",
    "y_train = np.append(y_train_1, y_train_0, axis = 0)\n",
    "X_valid = np.append(X_valid_0, X_valid_1, axis = 0)\n",
    "y_valid = np.append(y_valid_0, y_valid_1, axis = 0)\n",
    "\n",
    "X_train.shape, y_train.shape, X_valid.shape, y_valid.shape"
   ]
  },
  {
   "cell_type": "markdown",
   "id": "c2f2486b",
   "metadata": {},
   "source": [
    "## Distribution of classes in the validation data"
   ]
  },
  {
   "cell_type": "code",
   "execution_count": 31,
   "id": "6b7d1150",
   "metadata": {},
   "outputs": [
    {
     "data": {
      "text/plain": [
       "[<matplotlib.lines.Line2D at 0x14730afa0>]"
      ]
     },
     "execution_count": 31,
     "metadata": {},
     "output_type": "execute_result"
    },
    {
     "data": {
      "image/png": "[encoded data removed]",
      "text/plain": [
       "<Figure size 432x288 with 1 Axes>"
      ]
     },
     "metadata": {
      "needs_background": "light"
     },
     "output_type": "display_data"
    }
   ],
   "source": [
    "plt.plot(y_valid, '.')"
   ]
  },
  {
   "cell_type": "code",
   "execution_count": 32,
   "id": "98f25bdb",
   "metadata": {
    "execution": {
     "iopub.execute_input": "2023-07-17T10:03:17.709519Z",
     "iopub.status.busy": "2023-07-17T10:03:17.708580Z",
     "iopub.status.idle": "2023-07-17T10:03:17.715570Z",
     "shell.execute_reply": "2023-07-17T10:03:17.714691Z"
    },
    "papermill": {
     "duration": 0.029209,
     "end_time": "2023-07-17T10:03:17.717974",
     "exception": false,
     "start_time": "2023-07-17T10:03:17.688765",
     "status": "completed"
    },
    "tags": []
   },
   "outputs": [],
   "source": [
    "scaler = StandardScaler()\n",
    "X_train = scaler.fit_transform(X_train)"
   ]
  },
  {
   "cell_type": "code",
   "execution_count": 33,
   "id": "c006f483",
   "metadata": {
    "execution": {
     "iopub.execute_input": "2023-07-17T10:03:17.756110Z",
     "iopub.status.busy": "2023-07-17T10:03:17.755412Z",
     "iopub.status.idle": "2023-07-17T10:03:17.785334Z",
     "shell.execute_reply": "2023-07-17T10:03:17.783599Z"
    },
    "papermill": {
     "duration": 0.05391,
     "end_time": "2023-07-17T10:03:17.790117",
     "exception": false,
     "start_time": "2023-07-17T10:03:17.736207",
     "status": "completed"
    },
    "tags": []
   },
   "outputs": [],
   "source": [
    "feature_transformer = PCA()\n",
    "X_train = feature_transformer.fit_transform(X_train)"
   ]
  },
  {
   "cell_type": "code",
   "execution_count": 34,
   "id": "4df2da71",
   "metadata": {
    "execution": {
     "iopub.execute_input": "2023-07-17T10:03:17.866257Z",
     "iopub.status.busy": "2023-07-17T10:03:17.865441Z",
     "iopub.status.idle": "2023-07-17T10:03:18.176229Z",
     "shell.execute_reply": "2023-07-17T10:03:18.174946Z"
    },
    "papermill": {
     "duration": 0.352191,
     "end_time": "2023-07-17T10:03:18.179001",
     "exception": false,
     "start_time": "2023-07-17T10:03:17.826810",
     "status": "completed"
    },
    "tags": []
   },
   "outputs": [
    {
     "data": {
      "text/plain": [
       "0.847511566061851"
      ]
     },
     "execution_count": 34,
     "metadata": {},
     "output_type": "execute_result"
    },
    {
     "data": {
      "image/png": "[encoded data removed]",
      "text/plain": [
       "<Figure size 432x288 with 1 Axes>"
      ]
     },
     "metadata": {
      "needs_background": "light"
     },
     "output_type": "display_data"
    }
   ],
   "source": [
    "plt.plot(feature_transformer.explained_variance_ratio_)\n",
    "np.sum(feature_transformer.explained_variance_ratio_[:25])"
   ]
  },
  {
   "cell_type": "code",
   "execution_count": 36,
   "id": "a046e3de",
   "metadata": {
    "execution": {
     "iopub.execute_input": "2023-07-17T10:03:18.270274Z",
     "iopub.status.busy": "2023-07-17T10:03:18.269813Z",
     "iopub.status.idle": "2023-07-17T10:03:18.277020Z",
     "shell.execute_reply": "2023-07-17T10:03:18.275979Z"
    },
    "papermill": {
     "duration": 0.029781,
     "end_time": "2023-07-17T10:03:18.279303",
     "exception": false,
     "start_time": "2023-07-17T10:03:18.249522",
     "status": "completed"
    },
    "tags": []
   },
   "outputs": [
    {
     "data": {
      "text/plain": [
       "(186, 55)"
      ]
     },
     "execution_count": 36,
     "metadata": {},
     "output_type": "execute_result"
    }
   ],
   "source": [
    "X_train.shape"
   ]
  },
  {
   "cell_type": "code",
   "execution_count": 37,
   "id": "eb74b10f",
   "metadata": {
    "execution": {
     "iopub.execute_input": "2023-07-17T10:03:18.319405Z",
     "iopub.status.busy": "2023-07-17T10:03:18.318896Z",
     "iopub.status.idle": "2023-07-17T10:03:18.326925Z",
     "shell.execute_reply": "2023-07-17T10:03:18.325813Z"
    },
    "papermill": {
     "duration": 0.030604,
     "end_time": "2023-07-17T10:03:18.329381",
     "exception": false,
     "start_time": "2023-07-17T10:03:18.298777",
     "status": "completed"
    },
    "tags": []
   },
   "outputs": [
    {
     "data": {
      "text/plain": [
       "(186, 25)"
      ]
     },
     "execution_count": 37,
     "metadata": {},
     "output_type": "execute_result"
    }
   ],
   "source": [
    "X_train = X_train[:, :25]\n",
    "X_train.shape"
   ]
  },
  {
   "cell_type": "code",
   "execution_count": 52,
   "id": "564b7a95",
   "metadata": {
    "execution": {
     "iopub.execute_input": "2023-07-17T10:03:18.369604Z",
     "iopub.status.busy": "2023-07-17T10:03:18.369149Z",
     "iopub.status.idle": "2023-07-17T10:03:40.230236Z",
     "shell.execute_reply": "2023-07-17T10:03:40.228582Z"
    },
    "papermill": {
     "duration": 21.886213,
     "end_time": "2023-07-17T10:03:40.234510",
     "exception": false,
     "start_time": "2023-07-17T10:03:18.348297",
     "status": "completed"
    },
    "tags": []
   },
   "outputs": [
    {
     "name": "stdout",
     "output_type": "stream",
     "text": [
      "Time taken to train the model: 0.16375088691711426 seconds\n"
     ]
    },
    {
     "name": "stderr",
     "output_type": "stream",
     "text": [
      "/Users/nihalshah/jupenv/lib/python3.9/site-packages/sklearn/neural_network/_multilayer_perceptron.py:692: ConvergenceWarning: Stochastic Optimizer: Maximum iterations (200) reached and the optimization hasn't converged yet.\n",
      "  warnings.warn(\n"
     ]
    }
   ],
   "source": [
    "start_time = time.time()\n",
    "\n",
    "#model = MLPClassifier(max_iter = 500)\n",
    "model = MLPClassifier()\n",
    "model.fit(X_train, y_train)\n",
    "\n",
    "end_time = time.time()\n",
    "print(\"Time taken to train the model:\", (end_time - start_time), \"seconds\")"
   ]
  },
  {
   "cell_type": "code",
   "execution_count": 39,
   "id": "a4648d75",
   "metadata": {},
   "outputs": [
    {
     "data": {
      "image/png": "[encoded data removed]",
      "text/plain": [
       "<Figure size 720x360 with 1 Axes>"
      ]
     },
     "metadata": {
      "needs_background": "light"
     },
     "output_type": "display_data"
    }
   ],
   "source": [
    "fig, ax = plt.subplots(1, 1, figsize = (10, 5))\n",
    "ax.plot(np.abs(y_train - model.predict(X_train)), '.')\n",
    "ax.set_title(\"Diff in prediction\")\n",
    "plt.show()"
   ]
  },
  {
   "cell_type": "code",
   "execution_count": 40,
   "id": "b2fb2098",
   "metadata": {
    "execution": {
     "iopub.execute_input": "2023-07-17T10:03:40.325160Z",
     "iopub.status.busy": "2023-07-17T10:03:40.324342Z",
     "iopub.status.idle": "2023-07-17T10:03:40.633962Z",
     "shell.execute_reply": "2023-07-17T10:03:40.632711Z"
    },
    "papermill": {
     "duration": 0.360914,
     "end_time": "2023-07-17T10:03:40.636829",
     "exception": false,
     "start_time": "2023-07-17T10:03:40.275915",
     "status": "completed"
    },
    "tags": []
   },
   "outputs": [
    {
     "data": {
      "image/png": "[encoded data removed]",
      "text/plain": [
       "<Figure size 720x360 with 1 Axes>"
      ]
     },
     "metadata": {
      "needs_background": "light"
     },
     "output_type": "display_data"
    }
   ],
   "source": [
    "fig, ax = plt.subplots(1, 1, figsize = (10, 5))\n",
    "ax.plot(model.loss_curve_, '.')\n",
    "ax.set_title(\"Loss value time series\")\n",
    "plt.show()"
   ]
  },
  {
   "cell_type": "markdown",
   "id": "166e6ea5",
   "metadata": {},
   "source": [
    "## Performance on the training set"
   ]
  },
  {
   "cell_type": "markdown",
   "id": "1fa2ee29",
   "metadata": {
    "papermill": {
     "duration": 0.019214,
     "end_time": "2023-07-17T10:03:40.678602",
     "exception": false,
     "start_time": "2023-07-17T10:03:40.659388",
     "status": "completed"
    },
    "tags": []
   },
   "source": [
    "Let's find the competition score on the training set"
   ]
  },
  {
   "cell_type": "code",
   "execution_count": 53,
   "id": "a6382f35",
   "metadata": {
    "execution": {
     "iopub.execute_input": "2023-07-17T10:03:40.719955Z",
     "iopub.status.busy": "2023-07-17T10:03:40.719478Z",
     "iopub.status.idle": "2023-07-17T10:03:40.727731Z",
     "shell.execute_reply": "2023-07-17T10:03:40.726605Z"
    },
    "papermill": {
     "duration": 0.03185,
     "end_time": "2023-07-17T10:03:40.730065",
     "exception": false,
     "start_time": "2023-07-17T10:03:40.698215",
     "status": "completed"
    },
    "tags": []
   },
   "outputs": [
    {
     "data": {
      "text/plain": [
       "(93, 93)"
      ]
     },
     "execution_count": 53,
     "metadata": {},
     "output_type": "execute_result"
    }
   ],
   "source": [
    "N0 = np.sum(y_train == 0)\n",
    "N1 = np.sum(y_train == 1)\n",
    "N0, N1"
   ]
  },
  {
   "cell_type": "code",
   "execution_count": 54,
   "id": "67512a3c",
   "metadata": {
    "execution": {
     "iopub.execute_input": "2023-07-17T10:03:40.772654Z",
     "iopub.status.busy": "2023-07-17T10:03:40.772174Z",
     "iopub.status.idle": "2023-07-17T10:03:40.788445Z",
     "shell.execute_reply": "2023-07-17T10:03:40.786874Z"
    },
    "papermill": {
     "duration": 0.043146,
     "end_time": "2023-07-17T10:03:40.792710",
     "exception": false,
     "start_time": "2023-07-17T10:03:40.749564",
     "status": "completed"
    },
    "scrolled": true,
    "tags": []
   },
   "outputs": [],
   "source": [
    "predictions_train = model.predict_proba(X_train)"
   ]
  },
  {
   "cell_type": "code",
   "execution_count": 55,
   "id": "ca53decd",
   "metadata": {
    "execution": {
     "iopub.execute_input": "2023-07-17T10:03:40.878174Z",
     "iopub.status.busy": "2023-07-17T10:03:40.877385Z",
     "iopub.status.idle": "2023-07-17T10:03:40.902328Z",
     "shell.execute_reply": "2023-07-17T10:03:40.900843Z"
    },
    "papermill": {
     "duration": 0.070573,
     "end_time": "2023-07-17T10:03:40.904620",
     "exception": false,
     "start_time": "2023-07-17T10:03:40.834047",
     "status": "completed"
    },
    "tags": []
   },
   "outputs": [
    {
     "name": "stdout",
     "output_type": "stream",
     "text": [
      "Balanced logarithmic loss score on training data : 0.08796621269749691\n"
     ]
    }
   ],
   "source": [
    "score = 0\n",
    "epsilon = 10 ** -15\n",
    "\n",
    "for i in range(len(y_train)):\n",
    "    if y_train[i] == 0:\n",
    "        p = max(min(predictions_train[i][0], 1.0 - epsilon), epsilon)\n",
    "        score -= np.log(p) / N0\n",
    "    else:\n",
    "        p = max(min(predictions_train[i][1], 1.0 - epsilon), epsilon)\n",
    "        score -= np.log(p) / N1\n",
    "\n",
    "score /= 2\n",
    "print(\"Balanced logarithmic loss score on training data :\", score)"
   ]
  },
  {
   "cell_type": "markdown",
   "id": "2c34da93",
   "metadata": {},
   "source": [
    "## Performance on the validation set"
   ]
  },
  {
   "cell_type": "code",
   "execution_count": 58,
   "id": "4a9211ca",
   "metadata": {},
   "outputs": [
    {
     "data": {
      "text/plain": [
       "(30, 55)"
      ]
     },
     "execution_count": 58,
     "metadata": {},
     "output_type": "execute_result"
    }
   ],
   "source": [
    "X_valid = scaler.fit_transform(X_valid)\n",
    "X_valid = feature_transformer.transform(X_valid)\n",
    "X_valid.shape"
   ]
  },
  {
   "cell_type": "code",
   "execution_count": 59,
   "id": "24d2e55a",
   "metadata": {},
   "outputs": [
    {
     "data": {
      "text/plain": [
       "(30, 25)"
      ]
     },
     "execution_count": 59,
     "metadata": {},
     "output_type": "execute_result"
    }
   ],
   "source": [
    "X_valid = X_valid[:, :25]\n",
    "X_valid.shape"
   ]
  },
  {
   "cell_type": "code",
   "execution_count": 60,
   "id": "725db89d",
   "metadata": {},
   "outputs": [
    {
     "name": "stdout",
     "output_type": "stream",
     "text": [
      "Balanced logarithmic loss score on validation data : 0.40427115254363544\n"
     ]
    }
   ],
   "source": [
    "N0 = np.sum(y_valid == 0)\n",
    "N1 = np.sum(y_valid == 1)\n",
    "\n",
    "predictions_valid = model.predict_proba(X_valid)\n",
    "\n",
    "score = 0\n",
    "epsilon = 10 ** -15\n",
    "\n",
    "for i in range(len(y_valid)):\n",
    "    if y_valid[i] == 0:\n",
    "        p = max(min(predictions_valid[i][0], 1.0 - epsilon), epsilon)\n",
    "        score -= np.log(p) / N0\n",
    "    else:\n",
    "        p = max(min(predictions_valid[i][1], 1.0 - epsilon), epsilon)\n",
    "        score -= np.log(p) / N1\n",
    "\n",
    "score /= 2\n",
    "print(\"Balanced logarithmic loss score on validation data :\", score)"
   ]
  },
  {
   "cell_type": "code",
   "execution_count": 61,
   "id": "165b18af",
   "metadata": {},
   "outputs": [
    {
     "data": {
      "image/png": "[encoded data removed]",
      "text/plain": [
       "<Figure size 720x360 with 1 Axes>"
      ]
     },
     "metadata": {
      "needs_background": "light"
     },
     "output_type": "display_data"
    }
   ],
   "source": [
    "fig, ax = plt.subplots(1, 1, figsize = (10, 5))\n",
    "ax.plot(y_valid - model.predict(X_valid), '.')\n",
    "ax.set_title(\"Diff in prediction\")\n",
    "plt.show()"
   ]
  },
  {
   "cell_type": "markdown",
   "id": "a93f8f42",
   "metadata": {
    "papermill": {
     "duration": 0.019792,
     "end_time": "2023-07-17T10:03:40.944517",
     "exception": false,
     "start_time": "2023-07-17T10:03:40.924725",
     "status": "completed"
    },
    "tags": []
   },
   "source": [
    "# Testing"
   ]
  },
  {
   "cell_type": "code",
   "execution_count": null,
   "id": "01364e4d",
   "metadata": {
    "execution": {
     "iopub.execute_input": "2023-07-17T10:03:40.987592Z",
     "iopub.status.busy": "2023-07-17T10:03:40.986717Z",
     "iopub.status.idle": "2023-07-17T10:03:41.037408Z",
     "shell.execute_reply": "2023-07-17T10:03:41.036530Z"
    },
    "papermill": {
     "duration": 0.075303,
     "end_time": "2023-07-17T10:03:41.039853",
     "exception": false,
     "start_time": "2023-07-17T10:03:40.964550",
     "status": "completed"
    },
    "tags": []
   },
   "outputs": [],
   "source": [
    "test_df = pd.read_csv(\"test.csv\")\n",
    "test_ds_pd = test_df\n",
    "test_df_columns = test_ds_pd.columns.tolist()\n",
    "TEST_FEATURE_COLUMNS = [i for i in FEATURE_COLUMNS \\\n",
    "                        if i in test_df_columns and i != \"Class\"]\n",
    "test_ds_pd = test_ds_pd[TEST_FEATURE_COLUMNS]\n",
    "test_df"
   ]
  },
  {
   "cell_type": "code",
   "execution_count": null,
   "id": "1a9e1901",
   "metadata": {
    "execution": {
     "iopub.execute_input": "2023-07-17T10:03:43.747551Z",
     "iopub.status.busy": "2023-07-17T10:03:43.747069Z",
     "iopub.status.idle": "2023-07-17T10:03:43.755427Z",
     "shell.execute_reply": "2023-07-17T10:03:43.753865Z"
    },
    "papermill": {
     "duration": 0.035052,
     "end_time": "2023-07-17T10:03:43.757880",
     "exception": false,
     "start_time": "2023-07-17T10:03:43.722828",
     "status": "completed"
    },
    "tags": []
   },
   "outputs": [],
   "source": [
    "X_test = np.array(test_df[test_df.columns[1:40]])\n",
    "X_test = np.append(X_test, test_df[test_df.columns[41:]], axis = 1)"
   ]
  },
  {
   "cell_type": "code",
   "execution_count": null,
   "id": "e9c7601a",
   "metadata": {
    "execution": {
     "iopub.execute_input": "2023-07-17T10:03:43.802961Z",
     "iopub.status.busy": "2023-07-17T10:03:43.802478Z",
     "iopub.status.idle": "2023-07-17T10:03:43.809218Z",
     "shell.execute_reply": "2023-07-17T10:03:43.807966Z"
    },
    "papermill": {
     "duration": 0.032261,
     "end_time": "2023-07-17T10:03:43.811769",
     "exception": false,
     "start_time": "2023-07-17T10:03:43.779508",
     "status": "completed"
    },
    "tags": []
   },
   "outputs": [],
   "source": [
    "X_test = data_cleaner.fit_transform(X_test)"
   ]
  },
  {
   "cell_type": "code",
   "execution_count": null,
   "id": "03083d2b",
   "metadata": {
    "execution": {
     "iopub.execute_input": "2023-07-17T10:03:43.856464Z",
     "iopub.status.busy": "2023-07-17T10:03:43.855548Z",
     "iopub.status.idle": "2023-07-17T10:03:43.861417Z",
     "shell.execute_reply": "2023-07-17T10:03:43.860584Z"
    },
    "papermill": {
     "duration": 0.030708,
     "end_time": "2023-07-17T10:03:43.863791",
     "exception": false,
     "start_time": "2023-07-17T10:03:43.833083",
     "status": "completed"
    },
    "tags": []
   },
   "outputs": [],
   "source": [
    "X_test = scaler.fit_transform(X_test)"
   ]
  },
  {
   "cell_type": "code",
   "execution_count": null,
   "id": "076511e0",
   "metadata": {
    "execution": {
     "iopub.execute_input": "2023-07-17T10:03:43.908907Z",
     "iopub.status.busy": "2023-07-17T10:03:43.908096Z",
     "iopub.status.idle": "2023-07-17T10:03:43.914514Z",
     "shell.execute_reply": "2023-07-17T10:03:43.913540Z"
    },
    "papermill": {
     "duration": 0.03161,
     "end_time": "2023-07-17T10:03:43.917014",
     "exception": false,
     "start_time": "2023-07-17T10:03:43.885404",
     "status": "completed"
    },
    "tags": []
   },
   "outputs": [],
   "source": [
    "X_test = feature_transformer.transform(X_test)\n",
    "X_test = X_test[:, :20]"
   ]
  },
  {
   "cell_type": "code",
   "execution_count": null,
   "id": "d0c673e3",
   "metadata": {
    "execution": {
     "iopub.execute_input": "2023-07-17T10:03:43.963005Z",
     "iopub.status.busy": "2023-07-17T10:03:43.962102Z",
     "iopub.status.idle": "2023-07-17T10:03:43.970448Z",
     "shell.execute_reply": "2023-07-17T10:03:43.968914Z"
    },
    "papermill": {
     "duration": 0.035106,
     "end_time": "2023-07-17T10:03:43.973106",
     "exception": false,
     "start_time": "2023-07-17T10:03:43.938000",
     "status": "completed"
    },
    "tags": []
   },
   "outputs": [],
   "source": [
    "predictions = model.predict_proba(X_test)\n",
    "print(predictions)"
   ]
  },
  {
   "cell_type": "markdown",
   "id": "0ae6116b",
   "metadata": {
    "papermill": {
     "duration": 0.02161,
     "end_time": "2023-07-17T10:03:44.015885",
     "exception": false,
     "start_time": "2023-07-17T10:03:43.994275",
     "status": "completed"
    },
    "tags": []
   },
   "source": [
    "# Submission"
   ]
  },
  {
   "cell_type": "code",
   "execution_count": 63,
   "id": "097d5cb2",
   "metadata": {
    "execution": {
     "iopub.execute_input": "2023-07-17T10:03:44.060480Z",
     "iopub.status.busy": "2023-07-17T10:03:44.060034Z",
     "iopub.status.idle": "2023-07-17T10:03:44.078971Z",
     "shell.execute_reply": "2023-07-17T10:03:44.077639Z"
    },
    "papermill": {
     "duration": 0.044437,
     "end_time": "2023-07-17T10:03:44.081480",
     "exception": false,
     "start_time": "2023-07-17T10:03:44.037043",
     "status": "completed"
    },
    "tags": []
   },
   "outputs": [
    {
     "data": {
      "text/html": [
       "<div>\n",
       "<style scoped>\n",
       "    .dataframe tbody tr th:only-of-type {\n",
       "        vertical-align: middle;\n",
       "    }\n",
       "\n",
       "    .dataframe tbody tr th {\n",
       "        vertical-align: top;\n",
       "    }\n",
       "\n",
       "    .dataframe thead th {\n",
       "        text-align: right;\n",
       "    }\n",
       "</style>\n",
       "<table border=\"1\" class=\"dataframe\">\n",
       "  <thead>\n",
       "    <tr style=\"text-align: right;\">\n",
       "      <th></th>\n",
       "      <th>Id</th>\n",
       "      <th>class_0</th>\n",
       "      <th>class_1</th>\n",
       "    </tr>\n",
       "  </thead>\n",
       "  <tbody>\n",
       "    <tr>\n",
       "      <th>0</th>\n",
       "      <td>00eed32682bb</td>\n",
       "      <td>0.5</td>\n",
       "      <td>0.5</td>\n",
       "    </tr>\n",
       "    <tr>\n",
       "      <th>1</th>\n",
       "      <td>010ebe33f668</td>\n",
       "      <td>0.5</td>\n",
       "      <td>0.5</td>\n",
       "    </tr>\n",
       "    <tr>\n",
       "      <th>2</th>\n",
       "      <td>02fa521e1838</td>\n",
       "      <td>0.5</td>\n",
       "      <td>0.5</td>\n",
       "    </tr>\n",
       "    <tr>\n",
       "      <th>3</th>\n",
       "      <td>040e15f562a2</td>\n",
       "      <td>0.5</td>\n",
       "      <td>0.5</td>\n",
       "    </tr>\n",
       "    <tr>\n",
       "      <th>4</th>\n",
       "      <td>046e85c7cc7f</td>\n",
       "      <td>0.5</td>\n",
       "      <td>0.5</td>\n",
       "    </tr>\n",
       "  </tbody>\n",
       "</table>\n",
       "</div>"
      ],
      "text/plain": [
       "             Id  class_0  class_1\n",
       "0  00eed32682bb      0.5      0.5\n",
       "1  010ebe33f668      0.5      0.5\n",
       "2  02fa521e1838      0.5      0.5\n",
       "3  040e15f562a2      0.5      0.5\n",
       "4  046e85c7cc7f      0.5      0.5"
      ]
     },
     "execution_count": 63,
     "metadata": {},
     "output_type": "execute_result"
    }
   ],
   "source": [
    "sample_submission = pd.read_csv(\"sample_submission.csv\")\n",
    "#sample_submission[['class_0', 'class_1']] = predictions\n",
    "sample_submission"
   ]
  },
  {
   "cell_type": "code",
   "execution_count": null,
   "id": "06e5e96a",
   "metadata": {
    "execution": {
     "iopub.execute_input": "2023-07-17T10:03:44.127910Z",
     "iopub.status.busy": "2023-07-17T10:03:44.127431Z",
     "iopub.status.idle": "2023-07-17T10:03:44.140454Z",
     "shell.execute_reply": "2023-07-17T10:03:44.139170Z"
    },
    "papermill": {
     "duration": 0.039571,
     "end_time": "2023-07-17T10:03:44.143323",
     "exception": false,
     "start_time": "2023-07-17T10:03:44.103752",
     "status": "completed"
    },
    "tags": []
   },
   "outputs": [],
   "source": [
    "sample_submission.to_csv(\"submission.csv\", index = False)"
   ]
  },
  {
   "cell_type": "markdown",
   "id": "4e7d1613",
   "metadata": {},
   "source": [
    "## Understanding the numerical implications of a right prediction and a wrong one"
   ]
  },
  {
   "cell_type": "code",
   "execution_count": 64,
   "id": "5a8d6d04",
   "metadata": {},
   "outputs": [
    {
     "data": {
      "text/plain": [
       "(0.999999999999999, 9.992007221626415e-16)"
      ]
     },
     "execution_count": 64,
     "metadata": {},
     "output_type": "execute_result"
    }
   ],
   "source": [
    "1- epsilon, -np.log(1 - epsilon)"
   ]
  },
  {
   "cell_type": "code",
   "execution_count": 65,
   "id": "813e363b",
   "metadata": {},
   "outputs": [
    {
     "data": {
      "text/plain": [
       "(1e-15, 34.538776394910684)"
      ]
     },
     "execution_count": 65,
     "metadata": {},
     "output_type": "execute_result"
    }
   ],
   "source": [
    "epsilon, -np.log(epsilon)"
   ]
  }
 ],
 "metadata": {
  "kernelspec": {
   "display_name": "Python 3 (ipykernel)",
   "language": "python",
   "name": "python3"
  },
  "language_info": {
   "codemirror_mode": {
    "name": "ipython",
    "version": 3
   },
   "file_extension": ".py",
   "mimetype": "text/x-python",
   "name": "python",
   "nbconvert_exporter": "python",
   "pygments_lexer": "ipython3",
   "version": "3.9.12"
  },
  "papermill": {
   "default_parameters": {},
   "duration": 79.342311,
   "end_time": "2023-07-17T10:03:45.691140",
   "environment_variables": {},
   "exception": null,
   "input_path": "__notebook__.ipynb",
   "output_path": "__notebook__.ipynb",
   "parameters": {},
   "start_time": "2023-07-17T10:02:26.348829",
   "version": "2.4.0"
  }
 },
 "nbformat": 4,
 "nbformat_minor": 5
}
